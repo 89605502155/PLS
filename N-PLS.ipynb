{
 "cells": [
  {
   "cell_type": "markdown",
   "metadata": {},
   "source": [
    "# Импорт библиотек"
   ]
  },
  {
   "cell_type": "code",
   "execution_count": 1,
   "metadata": {},
   "outputs": [],
   "source": [
    "import numpy as np\n",
    "from gzip import open # NB: overrides standard open()\n",
    "import pickle as pkl\n",
    "import pandas as pd\n",
    "import warnings \n",
    "from glob import glob\n",
    "import os\n",
    "import math\n",
    "import functools"
   ]
  },
  {
   "cell_type": "markdown",
   "metadata": {},
   "source": [
    "### Отключим предупреждения Anaconda"
   ]
  },
  {
   "cell_type": "code",
   "execution_count": 2,
   "metadata": {},
   "outputs": [],
   "source": [
    "warnings.simplefilter('ignore')"
   ]
  },
  {
   "cell_type": "markdown",
   "metadata": {},
   "source": [
    "# Загрузим данные"
   ]
  },
  {
   "cell_type": "code",
   "execution_count": 3,
   "metadata": {},
   "outputs": [],
   "source": [
    "Xdata_numpy = pkl.load(open('C:/Users/admin/Desktop/PLS_continue_2020/X.pkl.gz', 'rb'))\n",
    "Ydata = pkl.load(open('C:/Users/admin/Desktop/PLS_continue_2020/y.pkl.gz', 'rb'))"
   ]
  },
  {
   "cell_type": "markdown",
   "metadata": {},
   "source": [
    "# N-PLS1"
   ]
  },
  {
   "cell_type": "markdown",
   "metadata": {},
   "source": [
    "## Выберем столбец у с которым будем работать"
   ]
  },
  {
   "cell_type": "code",
   "execution_count": 4,
   "metadata": {},
   "outputs": [],
   "source": [
    "m=0"
   ]
  },
  {
   "cell_type": "markdown",
   "metadata": {},
   "source": [
    "# Приближение к правильному алгоритму"
   ]
  },
  {
   "cell_type": "code",
   "execution_count": 104,
   "metadata": {},
   "outputs": [],
   "source": [
    "from sklearn.model_selection import train_test_split"
   ]
  },
  {
   "cell_type": "code",
   "execution_count": 219,
   "metadata": {},
   "outputs": [],
   "source": [
    "X_train, X_test, y_train, y_test = train_test_split(\n",
    "    Xdata_numpy[\"X\"], Ydata.iloc[:,m], test_size=0.2857 \n",
    "    )"
   ]
  },
  {
   "cell_type": "code",
   "execution_count": 220,
   "metadata": {},
   "outputs": [
    {
     "data": {
      "text/plain": [
       "25"
      ]
     },
     "execution_count": 220,
     "metadata": {},
     "output_type": "execute_result"
    }
   ],
   "source": [
    "X_train.shape[0]"
   ]
  },
  {
   "cell_type": "code",
   "execution_count": 355,
   "metadata": {},
   "outputs": [],
   "source": [
    "x=X_train"
   ]
  },
  {
   "cell_type": "code",
   "execution_count": 356,
   "metadata": {},
   "outputs": [],
   "source": [
    "y=y_train"
   ]
  },
  {
   "cell_type": "code",
   "execution_count": 357,
   "metadata": {},
   "outputs": [],
   "source": [
    "y=np.array(y)"
   ]
  },
  {
   "cell_type": "code",
   "execution_count": 358,
   "metadata": {},
   "outputs": [],
   "source": [
    "x=np.array(x)"
   ]
  },
  {
   "cell_type": "code",
   "execution_count": 359,
   "metadata": {},
   "outputs": [],
   "source": [
    "yo=y"
   ]
  },
  {
   "cell_type": "code",
   "execution_count": 345,
   "metadata": {},
   "outputs": [],
   "source": [
    "# a-numpy array;  b-pandas array\n",
    "def error(a,b):\n",
    "    s=0\n",
    "    for i in range(0,len(a)):\n",
    "        s+=((a[i]-b.iloc[i]))**2\n",
    "    return s"
   ]
  },
  {
   "cell_type": "code",
   "execution_count": 368,
   "metadata": {},
   "outputs": [],
   "source": [
    "parameters={'numbers_of_learning':3, 'numbers_of_components':15}"
   ]
  },
  {
   "cell_type": "code",
   "execution_count": 371,
   "metadata": {},
   "outputs": [
    {
     "name": "stdout",
     "output_type": "stream",
     "text": [
      "5415.247299074339\n",
      "5413.790454451667\n",
      "4728.659885673288\n",
      "3732.608581075338\n",
      "3520.28297221468\n",
      "2650.0034985129414\n",
      "1747.361353630304\n",
      "1043.595264546046\n",
      "556.7091328113486\n",
      "312.1828928350037\n",
      "209.52674203418636\n",
      "162.85448645906126\n",
      "69.87062893415282\n",
      "23.331300388471465\n",
      "12.280072130011904\n",
      "\n",
      "5465.209838291314\n",
      "5294.7777412017585\n",
      "4978.758259902588\n",
      "4477.876446640462\n",
      "4098.808330110305\n",
      "3437.106112069044\n",
      "2973.4810551091755\n",
      "2567.966734345999\n",
      "2092.969605595385\n",
      "1687.2039450850796\n",
      "1254.787685168586\n",
      "1132.2054115278925\n",
      "585.704348544216\n",
      "240.63691735488467\n",
      "72.6684294637976\n",
      "\n",
      "5450.194199964582\n",
      "4930.333422227027\n",
      "4576.119806534856\n",
      "4300.815696356478\n",
      "3855.7601773270567\n",
      "3140.433927125711\n",
      "2660.8926247040317\n",
      "2463.170244788937\n",
      "2171.271998057505\n",
      "1292.9768188113112\n",
      "619.8254949222896\n",
      "309.3566549791087\n",
      "137.82678772795504\n",
      "61.68889268562566\n",
      "53.60363593291268\n",
      "\n"
     ]
    },
    {
     "data": {
      "text/plain": [
       "array([[5450.19419996, 4930.33342223, 4576.11980653, 4300.81569636,\n",
       "        3855.76017733, 3140.43392713, 2660.8926247 , 2463.17024479,\n",
       "        2171.27199806, 1292.97681881,  619.82549492,  309.35665498,\n",
       "         137.82678773,   61.68889269,   53.60363593]])"
      ]
     },
     "execution_count": 371,
     "metadata": {},
     "output_type": "execute_result"
    }
   ],
   "source": [
    "\n",
    "for v in range(0,parameters['numbers_of_learning']):\n",
    "    X_train, X_test, y_train, y_test = train_test_split(\n",
    "        Xdata_numpy[\"X\"], Ydata.iloc[:,m], test_size=0.2857 \n",
    "        )\n",
    "    x=X_train\n",
    "    y=y_train\n",
    "    y=np.array(y)\n",
    "    x=np.array(x)\n",
    "\n",
    "    Tt=[]\n",
    "    mass=np.zeros([y.shape[0]])\n",
    "    for f in range(0,parameters['numbers_of_components']):\n",
    "        z=np.zeros([x.shape[1],x.shape[2]])\n",
    "        for i in range(0,x.shape[2]):\n",
    "            for j in range(0,x.shape[1]):\n",
    "                zsum=0\n",
    "                for k in range(0,x.shape[0]):\n",
    "                    zsum= zsum+ x[k,j,i]*y[k]\n",
    "                z[j,i]=zsum\n",
    "        Wk, S, WI = np.linalg.svd(z)\n",
    "        w_k=np.array(Wk[0,:]).reshape(x.shape[1],1)\n",
    "        w_i=np.array(WI[0,:]).reshape(x.shape[2],1)\n",
    "        \n",
    "        t=[]\n",
    "        for h in range(0,x.shape[0]):\n",
    "            t+=[np.dot(np.dot(w_k.transpose(),x[h,:,:]),w_i)]\n",
    "        t=np.array(t).reshape(x.shape[0],1)\n",
    "        Tt+=[t]\n",
    "        T=np.array(Tt).reshape(x.shape[0],f+1)\n",
    "        bf=np.dot(np.dot(np.linalg.inv(np.dot(T.transpose(),T)),T.transpose()),y)\n",
    "        for g in range(0,x.shape[0]):\n",
    "            x[g,:,:]=x[g,:,:]-(t[g]*w_i.transpose()*w_k)\n",
    "        y=y-(np.dot(T,bf))\n",
    "        mass+=np.dot(T,bf)\n",
    "        print(error(mass,y_train))\n",
    "        output[f]+=error(mass,y_train)\n",
    "    print()\n",
    "np.array(output).reshape(1,parameters['numbers_of_components'])"
   ]
  },
  {
   "cell_type": "code",
   "execution_count": 372,
   "metadata": {},
   "outputs": [
    {
     "data": {
      "text/plain": [
       "array([5450.19419996, 4930.33342223, 4576.11980653, 4300.81569636,\n",
       "       3855.76017733, 3140.43392713, 2660.8926247 , 2463.17024479,\n",
       "       2171.27199806, 1292.97681881,  619.82549492,  309.35665498,\n",
       "        137.82678773,   61.68889269,   53.60363593])"
      ]
     },
     "execution_count": 372,
     "metadata": {},
     "output_type": "execute_result"
    }
   ],
   "source": [
    "output"
   ]
  },
  {
   "cell_type": "markdown",
   "metadata": {},
   "source": [
    "###### Массив mass собирает разложение обратно, и именно он важен для определения числа комронент"
   ]
  },
  {
   "cell_type": "code",
   "execution_count": 339,
   "metadata": {},
   "outputs": [
    {
     "name": "stdout",
     "output_type": "stream",
     "text": [
      "3.2573949359354034e+37\n",
      "1.3736859842840645e+38\n",
      "1.8175512898144767e+38\n",
      "2.422464079860449e+38\n",
      "2.3984639952295402e+38\n",
      "2.6797800601292366e+38\n",
      "3.1934498320857485e+38\n",
      "3.1873893837616863e+38\n",
      "3.2013521653352052e+38\n",
      "3.167160875903498e+38\n",
      "2.6311524878397894e+38\n",
      "2.7470024619541774e+38\n",
      "2.8539096693206566e+38\n",
      "3.1938798296302585e+38\n",
      "3.161113130762126e+38\n",
      "3.418633318587955e+38\n",
      "3.458668894413968e+38\n",
      "3.499149693556257e+38\n",
      "3.590370932664191e+38\n",
      "3.5951144823316104e+38\n",
      "3.6040156866470576e+38\n",
      "3.6172311677698454e+38\n",
      "3.619996016509866e+38\n",
      "3.623215991294016e+38\n",
      "3.62318830697043e+38\n",
      "3.623014976555737e+38\n",
      "3.623053086161273e+38\n",
      "3.6229212222125596e+38\n",
      "3.62340241706419e+38\n",
      "3.6239120187036645e+38\n",
      "3.619415220095947e+38\n",
      "3.624720501107461e+38\n",
      "3.6251621895657074e+38\n",
      "3.6044685296632485e+38\n",
      "3.640420922509956e+38\n",
      "3.6498354992454605e+38\n",
      "3.840705311084655e+38\n",
      "6.805779930052282e+38\n",
      "9.567898050035575e+38\n",
      "8.336496258388958e+40\n",
      "7.716666344822102e+42\n",
      "2.418333329584541e+45\n",
      "3.372777135112628e+47\n",
      "1.5131326699362803e+48\n",
      "2.5108952885254745e+51\n",
      "1.6141163858206858e+54\n",
      "3.0382709376070087e+55\n",
      "2.187101743516227e+56\n",
      "3.663844273798879e+58\n",
      "1.944747419388595e+60\n",
      "8.605706760233597e+62\n",
      "3.5946805833617996e+63\n",
      "1.6536918693671755e+65\n",
      "1.1184165870768278e+65\n",
      "8.069671966949985e+67\n"
     ]
    }
   ],
   "source": [
    "Tt=[]\n",
    "mass=np.zeros([y.shape[0]])\n",
    "for f in range(0,55):\n",
    "    z=np.zeros([x.shape[1],x.shape[2]])\n",
    "    for i in range(0,x.shape[2]):\n",
    "        for j in range(0,x.shape[1]):\n",
    "            zsum=0\n",
    "            for k in range(0,x.shape[0]):\n",
    "                zsum= zsum+ x[k,j,i]*y[k]\n",
    "            z[j,i]=zsum\n",
    "    Wk, S, WI = np.linalg.svd(z)\n",
    "    w_k=np.array(Wk[0,:]).reshape(x.shape[1],1)\n",
    "    w_i=np.array(WI[0,:]).reshape(x.shape[2],1)\n",
    "    \n",
    "    t=[]\n",
    "    for h in range(0,x.shape[0]):\n",
    "        t+=[np.dot(np.dot(w_k.transpose(),x[h,:,:]),w_i)]\n",
    "    t=np.array(t).reshape(x.shape[0],1)\n",
    "    Tt+=[t]\n",
    "    T=np.array(Tt).reshape(x.shape[0],f+1)\n",
    "    bf=np.dot(np.dot(np.linalg.inv(np.dot(T.transpose(),T)),T.transpose()),y)\n",
    "    for g in range(0,x.shape[0]):\n",
    "        x[g,:,:]=x[g,:,:]-(t[g]*w_i.transpose()*w_k)\n",
    "    y=y-(np.dot(T,bf))\n",
    "    mass+=np.dot(T,bf)\n",
    "    print(error(mass,y_train))"
   ]
  },
  {
   "cell_type": "markdown",
   "metadata": {},
   "source": [
    "# Попробую оформить всё в виде полноценного класса"
   ]
  },
  {
   "cell_type": "code",
   "execution_count": null,
   "metadata": {},
   "outputs": [],
   "source": [
    "class N_PLS1():\n",
    "    def error(a,b):\n",
    "        s=0\n",
    "        for i in range(0,len(a)):\n",
    "            s+=((a[i]-b.iloc[i]))**2\n",
    "        return s\n",
    "    def function_1(x,y,fn):\n",
    "        Tt=[]\n",
    "        mass=np.zeros([y.shape[0]])\n",
    "        output=[]\n",
    "        for f in range(0,fn):\n",
    "            z=np.zeros([x.shape[1],x.shape[2]])\n",
    "            for i in range(0,x.shape[2]):\n",
    "                for j in range(0,x.shape[1]):\n",
    "                    zsum=0\n",
    "                    for k in range(0,x.shape[0]):\n",
    "                        zsum= zsum+ x[k,j,i]*y[k]\n",
    "                    z[j,i]=zsum\n",
    "            Wk, S, WI = np.linalg.svd(z)\n",
    "            w_k=np.array(Wk[0,:]).reshape(x.shape[1],1)\n",
    "            w_i=np.array(WI[0,:]).reshape(x.shape[2],1)\n",
    "            t=[]\n",
    "            for h in range(0,x.shape[0]):\n",
    "                t+=[np.dot(np.dot(w_k.transpose(),x[h,:,:]),w_i)]\n",
    "            t=np.array(t).reshape(x.shape[0],1)\n",
    "            Tt+=[t]\n",
    "            T=np.array(Tt).reshape(x.shape[0],f+1)\n",
    "            bf=np.dot(np.dot(np.linalg.inv(np.dot(T.transpose(),T)),T.transpose()),y)\n",
    "            for g in range(0,x.shape[0]):\n",
    "                x[g,:,:]=x[g,:,:]-(t[g]*w_i.transpose()*w_k)\n",
    "            y=y-(np.dot(T,bf))\n",
    "            mass+=np.dot(T,bf)\n",
    "            output+=[error(mass,y_train)]\n",
    "        return output\n",
    "    def fit(x,y,fn):\n",
    "        \n",
    "            \n",
    "        return y"
   ]
  },
  {
   "cell_type": "code",
   "execution_count": 179,
   "metadata": {},
   "outputs": [
    {
     "data": {
      "text/plain": [
       "array([34.19308759, 35.72443085, 46.32211944, 35.69579348, 47.44184036,\n",
       "       33.34204937, 42.44462856, 39.9018207 , 44.39973652, 54.64066407,\n",
       "       53.71596802, 44.04933373, 36.11255278, 34.24246421, 36.22622795,\n",
       "       26.1974747 , 41.0398005 , 31.41066637, 34.07047331, 42.14770231,\n",
       "       45.44679116, 21.41118209, 44.54683093, 35.35460545, 36.47993911])"
      ]
     },
     "execution_count": 179,
     "metadata": {},
     "output_type": "execute_result"
    }
   ],
   "source": [
    "y"
   ]
  },
  {
   "cell_type": "code",
   "execution_count": 54,
   "metadata": {},
   "outputs": [
    {
     "name": "stdout",
     "output_type": "stream",
     "text": [
      "()\n"
     ]
    }
   ],
   "source": [
    "print(y.shape)"
   ]
  },
  {
   "cell_type": "code",
   "execution_count": 290,
   "metadata": {},
   "outputs": [
    {
     "data": {
      "text/plain": [
       "[41286.08749854996,\n",
       " 38302.110243945746,\n",
       " 20444.93670747345,\n",
       " 13639.701185793923,\n",
       " 12439.263695246093,\n",
       " 10789.974224403275,\n",
       " 8598.56556560382,\n",
       " 7968.967506273657,\n",
       " 7064.892691449656,\n",
       " 6299.901986225843,\n",
       " 5402.479038865533,\n",
       " 3654.37066066749,\n",
       " 3213.2931840440165,\n",
       " 2682.495895172844,\n",
       " 1872.8829464517519,\n",
       " 1219.8609339979532,\n",
       " 901.9277716135091,\n",
       " 553.7388536351104,\n",
       " 252.14526974505077,\n",
       " 118.10074288670174,\n",
       " 38.94981464085392,\n",
       " 21.429430366938657,\n",
       " 5.790438269180314,\n",
       " 2.0139509572786625,\n",
       " 0.8471606395169777]"
      ]
     },
     "execution_count": 290,
     "metadata": {},
     "output_type": "execute_result"
    }
   ],
   "source": [
    "function_1(x,y,25)"
   ]
  },
  {
   "cell_type": "code",
   "execution_count": 331,
   "metadata": {},
   "outputs": [
    {
     "name": "stdout",
     "output_type": "stream",
     "text": [
      "[5881.081773936589, 5195.194135948176, 4595.753850448796, 3697.4301685787964, 2393.408183981792, 1730.2577746392737, 1137.495276542045, 836.8981056708691, 502.7815170755121, 414.6809716536083, 340.22588862523133, 220.3599620901575, 133.94619309571854, 80.35650253454206, 36.68023612039321, 30.981077033990275, 12.515987829782226, 4.3311267341245285, 1.3863370980748204, 0.7705193007573259, 0.24346041599041418, 0.10774205447739513, 0.016419091188545464, 0.004574090183078223, 0.002686760816077912, 0.0029362552828107406, 0.001584657029826227, 0.002247869747972181, 0.001431492737689517]\n"
     ]
    },
    {
     "data": {
      "text/plain": [
       "[[6389.803909882158,\n",
       "  5916.599983237266,\n",
       "  4999.201390296729,\n",
       "  3737.9558974357187,\n",
       "  3166.641003683795,\n",
       "  2791.2273526995987,\n",
       "  2561.347949798782,\n",
       "  2155.46758995359,\n",
       "  1849.5508307278424,\n",
       "  763.6974357205736,\n",
       "  628.0873793772564,\n",
       "  342.44850957395926,\n",
       "  121.53125255132385,\n",
       "  46.6384235185164,\n",
       "  21.163442969920084,\n",
       "  12.74031224792265,\n",
       "  10.285472319360716,\n",
       "  10.064138308163399,\n",
       "  8.805455535457378,\n",
       "  8.441746471802308,\n",
       "  5.545303363744137,\n",
       "  5.35881305379689,\n",
       "  1.399291007825839,\n",
       "  0.03968376890055237,\n",
       "  0.0006888542845988004,\n",
       "  9.647630520136338e-09,\n",
       "  8.177593269649294e-08,\n",
       "  2.221234637007994e-08,\n",
       "  8.217963141638592e-06]]"
      ]
     },
     "execution_count": 331,
     "metadata": {},
     "output_type": "execute_result"
    }
   ],
   "source": [
    "function_2(Xdata_numpy[\"X\"], Ydata.iloc[:,m], 1, 29, 0.2857)"
   ]
  },
  {
   "cell_type": "code",
   "execution_count": null,
   "metadata": {},
   "outputs": [],
   "source": [
    "nbn"
   ]
  }
 ],
 "metadata": {
  "kernelspec": {
   "display_name": "Python 3",
   "language": "python",
   "name": "python3"
  },
  "language_info": {
   "codemirror_mode": {
    "name": "ipython",
    "version": 3
   },
   "file_extension": ".py",
   "mimetype": "text/x-python",
   "name": "python",
   "nbconvert_exporter": "python",
   "pygments_lexer": "ipython3",
   "version": "3.7.4"
  }
 },
 "nbformat": 4,
 "nbformat_minor": 2
}
