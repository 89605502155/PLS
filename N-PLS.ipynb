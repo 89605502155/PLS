{
 "cells": [
  {
   "cell_type": "markdown",
   "metadata": {},
   "source": [
    "# Импорт библиотек"
   ]
  },
  {
   "cell_type": "code",
   "execution_count": 1,
   "metadata": {},
   "outputs": [],
   "source": [
    "import numpy as np\n",
    "from gzip import open # NB: overrides standard open()\n",
    "import pickle as pkl\n",
    "import pandas as pd\n",
    "import warnings \n",
    "from glob import glob\n",
    "import os\n",
    "import math\n",
    "import functools"
   ]
  },
  {
   "cell_type": "markdown",
   "metadata": {},
   "source": [
    "### Отключим предупреждения Anaconda"
   ]
  },
  {
   "cell_type": "code",
   "execution_count": 2,
   "metadata": {},
   "outputs": [],
   "source": [
    "warnings.simplefilter('ignore')"
   ]
  },
  {
   "cell_type": "markdown",
   "metadata": {},
   "source": [
    "# Загрузим данные"
   ]
  },
  {
   "cell_type": "code",
   "execution_count": 3,
   "metadata": {},
   "outputs": [],
   "source": [
    "Xdata_numpy = pkl.load(open('C:/Users/admin/Desktop/PLS_continue_2020/X.pkl.gz', 'rb'))\n",
    "Ydata = pkl.load(open('C:/Users/admin/Desktop/PLS_continue_2020/y.pkl.gz', 'rb'))"
   ]
  },
  {
   "cell_type": "markdown",
   "metadata": {},
   "source": [
    "# N-PLS1"
   ]
  },
  {
   "cell_type": "markdown",
   "metadata": {},
   "source": [
    "## Выберем столбец у с которым будем работать"
   ]
  },
  {
   "cell_type": "code",
   "execution_count": 4,
   "metadata": {},
   "outputs": [],
   "source": [
    "m=0"
   ]
  },
  {
   "cell_type": "markdown",
   "metadata": {},
   "source": [
    "# Приближение к правильному алгоритму"
   ]
  },
  {
   "cell_type": "code",
   "execution_count": 104,
   "metadata": {},
   "outputs": [],
   "source": [
    "from sklearn.model_selection import train_test_split"
   ]
  },
  {
   "cell_type": "code",
   "execution_count": 219,
   "metadata": {},
   "outputs": [],
   "source": [
    "X_train, X_test, y_train, y_test = train_test_split(\n",
    "    Xdata_numpy[\"X\"], Ydata.iloc[:,m], test_size=0.2857 \n",
    "    )"
   ]
  },
  {
   "cell_type": "code",
   "execution_count": 220,
   "metadata": {},
   "outputs": [
    {
     "data": {
      "text/plain": [
       "25"
      ]
     },
     "execution_count": 220,
     "metadata": {},
     "output_type": "execute_result"
    }
   ],
   "source": [
    "X_train.shape[0]"
   ]
  },
  {
   "cell_type": "code",
   "execution_count": 279,
   "metadata": {},
   "outputs": [],
   "source": [
    "x=X_train"
   ]
  },
  {
   "cell_type": "code",
   "execution_count": 280,
   "metadata": {},
   "outputs": [],
   "source": [
    "y=y_train"
   ]
  },
  {
   "cell_type": "code",
   "execution_count": 281,
   "metadata": {},
   "outputs": [],
   "source": [
    "y=np.array(y)"
   ]
  },
  {
   "cell_type": "code",
   "execution_count": 282,
   "metadata": {},
   "outputs": [],
   "source": [
    "x=np.array(x)"
   ]
  },
  {
   "cell_type": "code",
   "execution_count": 264,
   "metadata": {},
   "outputs": [],
   "source": [
    "yo=y"
   ]
  },
  {
   "cell_type": "code",
   "execution_count": 232,
   "metadata": {},
   "outputs": [],
   "source": [
    "# a-numpy array;  b-pandas array\n",
    "def error(a,b):\n",
    "    s=0\n",
    "    for i in range(0,len(a)):\n",
    "        s+=((a[i]-b.iloc[i]))**2\n",
    "    return s"
   ]
  },
  {
   "cell_type": "code",
   "execution_count": 283,
   "metadata": {},
   "outputs": [],
   "source": [
    "def function_1(x,y,fn):\n",
    "    Tt=[]\n",
    "    mass=np.zeros([y.shape[0]])\n",
    "    output=[]\n",
    "    for f in range(0,fn):\n",
    "        z=np.zeros([x.shape[1],x.shape[2]])\n",
    "        for i in range(0,x.shape[2]):\n",
    "            for j in range(0,x.shape[1]):\n",
    "                zsum=0\n",
    "                for k in range(0,x.shape[0]):\n",
    "                    zsum= zsum+ x[k,j,i]*y[k]\n",
    "                z[j,i]=zsum\n",
    "        Wk, S, WI = np.linalg.svd(z)\n",
    "        w_k=np.array(Wk[0,:]).reshape(x.shape[1],1)\n",
    "        w_i=np.array(WI[0,:]).reshape(x.shape[2],1)\n",
    "    \n",
    "        t=[]\n",
    "        for h in range(0,x.shape[0]):\n",
    "            t+=[np.dot(np.dot(w_k.transpose(),x[h,:,:]),w_i)]\n",
    "        t=np.array(t).reshape(x.shape[0],1)\n",
    "        Tt+=[t]\n",
    "        T=np.array(Tt).reshape(x.shape[0],f+1)\n",
    "        bf=np.dot(np.dot(np.linalg.inv(np.dot(T.transpose(),T)),T.transpose()),y)\n",
    "    \n",
    "        for g in range(0,x.shape[0]):\n",
    "            x[g,:,:]=x[g,:,:]-(t[g]*w_i.transpose()*w_k)\n",
    "        y=y-(np.dot(T,bf))\n",
    "        mass+=np.dot(T,bf)\n",
    "        output+=[error(mass,y_train)]\n",
    "    return output"
   ]
  },
  {
   "cell_type": "markdown",
   "metadata": {},
   "source": [
    "#### Ниже изначальная, но, пока ещё нужная для работы версия function_1"
   ]
  },
  {
   "cell_type": "markdown",
   "metadata": {},
   "source": [
    "###### Массив mass собирает разложение обратно, и именно он важен для определения числа комронент"
   ]
  },
  {
   "cell_type": "code",
   "execution_count": 270,
   "metadata": {},
   "outputs": [
    {
     "name": "stdout",
     "output_type": "stream",
     "text": [
      "6295.280934294746\n",
      "5025.960053166011\n",
      "4537.110878008037\n",
      "3910.682162173213\n",
      "3508.8721869572855\n",
      "3110.8690063698773\n",
      "2178.2835802681734\n",
      "1899.1215010476215\n",
      "1160.0942926802636\n",
      "826.8799914544466\n",
      "664.9274098898748\n",
      "475.8662917913025\n",
      "343.3229431335154\n",
      "183.84361608155476\n",
      "29.057468644372353\n",
      "16.795243483399545\n",
      "9.225309332501615\n",
      "8.463611118343504\n",
      "6.962010905198145\n",
      "4.381841364865522\n",
      "0.28480648440565753\n",
      "0.024950819146111212\n",
      "0.000154575371231868\n",
      "6.529091562035779e-07\n",
      "1.5865161616894563e-09\n",
      "1.899487740971464e-16\n",
      "7.736229698890818e-17\n",
      "1.210558321571224e-16\n",
      "1.6009409235644413e-16\n",
      "1.2612494789381252e-15\n",
      "3.839935857203881e-17\n",
      "4.1651715241658746e-17\n",
      "6.23224806844377e-15\n",
      "4.5243862857533e-13\n",
      "4.22165629797906e-12\n",
      "1.057150294646872e-12\n",
      "1.1392093657824908e-12\n",
      "2.3205072089838744e-11\n",
      "3.8599517624417894e-11\n",
      "6.218014854723555e-10\n",
      "1.1391395220420335e-09\n",
      "6.908513219144009e-06\n",
      "9.014284003811633e-09\n",
      "2.096458782321592e-06\n",
      "0.00012051987536252695\n",
      "0.0005695468530131893\n",
      "0.0007787708690048402\n",
      "2.6685555435564994\n",
      "2.3123077137238193\n",
      "1.1620798642537027\n",
      "3.2918023953266498\n",
      "81.98919909500641\n",
      "547.3570884385454\n",
      "6751.05858051124\n",
      "45799.25543848568\n"
     ]
    }
   ],
   "source": [
    "Tt=[]\n",
    "mass=np.zeros([y.shape[0]])\n",
    "for f in range(0,55):\n",
    "    z=np.zeros([x.shape[1],x.shape[2]])\n",
    "    for i in range(0,x.shape[2]):\n",
    "        for j in range(0,x.shape[1]):\n",
    "            zsum=0\n",
    "            for k in range(0,x.shape[0]):\n",
    "                zsum= zsum+ x[k,j,i]*y[k]\n",
    "            z[j,i]=zsum\n",
    "    Wk, S, WI = np.linalg.svd(z)\n",
    "    w_k=np.array(Wk[0,:]).reshape(x.shape[1],1)\n",
    "    w_i=np.array(WI[0,:]).reshape(x.shape[2],1)\n",
    "    \n",
    "    t=[]\n",
    "    for h in range(0,x.shape[0]):\n",
    "        t+=[np.dot(np.dot(w_k.transpose(),x[h,:,:]),w_i)]\n",
    "    t=np.array(t).reshape(x.shape[0],1)\n",
    "    Tt+=[t]\n",
    "    T=np.array(Tt).reshape(x.shape[0],f+1)\n",
    "    bf=np.dot(np.dot(np.linalg.inv(np.dot(T.transpose(),T)),T.transpose()),y)\n",
    "    for g in range(0,x.shape[0]):\n",
    "        x[g,:,:]=x[g,:,:]-(t[g]*w_i.transpose()*w_k)\n",
    "    y=y-(np.dot(T,bf))\n",
    "    mass+=np.dot(T,bf)\n",
    "    print(error(mass,y_train))"
   ]
  },
  {
   "cell_type": "markdown",
   "metadata": {},
   "source": [
    "# Попробую оформить всё в виде полноценного класса"
   ]
  },
  {
   "cell_type": "code",
   "execution_count": null,
   "metadata": {},
   "outputs": [],
   "source": [
    "class N_PLS1():\n",
    "    def error(a,b):\n",
    "        s=0\n",
    "        for i in range(0,len(a)):\n",
    "            s+=((a[i]-b.iloc[i]))**2\n",
    "        return s\n",
    "    def function_1(x,y,fn):\n",
    "        Tt=[]\n",
    "        mass=np.zeros([y.shape[0]])\n",
    "        output=[]\n",
    "        for f in range(0,fn):\n",
    "            z=np.zeros([x.shape[1],x.shape[2]])\n",
    "            for i in range(0,x.shape[2]):\n",
    "                for j in range(0,x.shape[1]):\n",
    "                    zsum=0\n",
    "                    for k in range(0,x.shape[0]):\n",
    "                        zsum= zsum+ x[k,j,i]*y[k]\n",
    "                    z[j,i]=zsum\n",
    "            Wk, S, WI = np.linalg.svd(z)\n",
    "            w_k=np.array(Wk[0,:]).reshape(x.shape[1],1)\n",
    "            w_i=np.array(WI[0,:]).reshape(x.shape[2],1)\n",
    "            t=[]\n",
    "            for h in range(0,x.shape[0]):\n",
    "                t+=[np.dot(np.dot(w_k.transpose(),x[h,:,:]),w_i)]\n",
    "            t=np.array(t).reshape(x.shape[0],1)\n",
    "            Tt+=[t]\n",
    "            T=np.array(Tt).reshape(x.shape[0],f+1)\n",
    "            bf=np.dot(np.dot(np.linalg.inv(np.dot(T.transpose(),T)),T.transpose()),y)\n",
    "            for g in range(0,x.shape[0]):\n",
    "                x[g,:,:]=x[g,:,:]-(t[g]*w_i.transpose()*w_k)\n",
    "            y=y-(np.dot(T,bf))\n",
    "            mass+=np.dot(T,bf)\n",
    "            output+=[error(mass,y_train)]\n",
    "        return output\n",
    "    def fit(x,y,fn):\n",
    "        \n",
    "            \n",
    "        return y"
   ]
  },
  {
   "cell_type": "code",
   "execution_count": 179,
   "metadata": {},
   "outputs": [
    {
     "data": {
      "text/plain": [
       "array([34.19308759, 35.72443085, 46.32211944, 35.69579348, 47.44184036,\n",
       "       33.34204937, 42.44462856, 39.9018207 , 44.39973652, 54.64066407,\n",
       "       53.71596802, 44.04933373, 36.11255278, 34.24246421, 36.22622795,\n",
       "       26.1974747 , 41.0398005 , 31.41066637, 34.07047331, 42.14770231,\n",
       "       45.44679116, 21.41118209, 44.54683093, 35.35460545, 36.47993911])"
      ]
     },
     "execution_count": 179,
     "metadata": {},
     "output_type": "execute_result"
    }
   ],
   "source": [
    "y"
   ]
  },
  {
   "cell_type": "code",
   "execution_count": 54,
   "metadata": {},
   "outputs": [
    {
     "name": "stdout",
     "output_type": "stream",
     "text": [
      "()\n"
     ]
    }
   ],
   "source": [
    "print(y.shape)"
   ]
  },
  {
   "cell_type": "code",
   "execution_count": 284,
   "metadata": {},
   "outputs": [
    {
     "data": {
      "text/plain": [
       "[6295.280934294746,\n",
       " 5025.960053166011,\n",
       " 4537.110878008037,\n",
       " 3910.682162173213,\n",
       " 3508.8721869572855,\n",
       " 3110.8690063698773,\n",
       " 2178.2835802681734,\n",
       " 1899.1215010476215,\n",
       " 1160.0942926802636,\n",
       " 826.8799914544466,\n",
       " 664.9274098898748,\n",
       " 475.8662917913025,\n",
       " 343.3229431335154,\n",
       " 183.84361608155476,\n",
       " 29.057468644372353,\n",
       " 16.795243483399545,\n",
       " 9.225309332501615,\n",
       " 8.463611118343504,\n",
       " 6.962010905198145,\n",
       " 4.381841364865522,\n",
       " 0.28480648440565753,\n",
       " 0.024950819146111212,\n",
       " 0.000154575371231868,\n",
       " 6.529091562035779e-07,\n",
       " 1.5865161616894563e-09]"
      ]
     },
     "execution_count": 284,
     "metadata": {},
     "output_type": "execute_result"
    }
   ],
   "source": [
    "function_1(x,y,25)"
   ]
  },
  {
   "cell_type": "code",
   "execution_count": null,
   "metadata": {},
   "outputs": [],
   "source": []
  }
 ],
 "metadata": {
  "kernelspec": {
   "display_name": "Python 3",
   "language": "python",
   "name": "python3"
  },
  "language_info": {
   "codemirror_mode": {
    "name": "ipython",
    "version": 3
   },
   "file_extension": ".py",
   "mimetype": "text/x-python",
   "name": "python",
   "nbconvert_exporter": "python",
   "pygments_lexer": "ipython3",
   "version": "3.7.4"
  }
 },
 "nbformat": 4,
 "nbformat_minor": 2
}
