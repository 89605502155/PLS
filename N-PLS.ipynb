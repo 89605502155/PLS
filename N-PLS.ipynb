{
 "cells": [
  {
   "cell_type": "markdown",
   "metadata": {},
   "source": [
    "# Импорт библиотек"
   ]
  },
  {
   "cell_type": "code",
   "execution_count": 1,
   "metadata": {},
   "outputs": [],
   "source": [
    "import numpy as np\n",
    "from gzip import open # NB: overrides standard open()\n",
    "import pickle as pkl\n",
    "import pandas as pd\n",
    "import warnings \n",
    "from glob import glob\n",
    "import os\n",
    "import math\n",
    "import functools"
   ]
  },
  {
   "cell_type": "markdown",
   "metadata": {},
   "source": [
    "### Отключим предупреждения Anaconda"
   ]
  },
  {
   "cell_type": "code",
   "execution_count": 2,
   "metadata": {},
   "outputs": [],
   "source": [
    "warnings.simplefilter('ignore')"
   ]
  },
  {
   "cell_type": "markdown",
   "metadata": {},
   "source": [
    "# Загрузим данные"
   ]
  },
  {
   "cell_type": "code",
   "execution_count": 3,
   "metadata": {},
   "outputs": [],
   "source": [
    "Xdata_numpy = pkl.load(open('C:/Users/admin/Desktop/PLS_continue_2020/X.pkl.gz', 'rb'))\n",
    "Ydata = pkl.load(open('C:/Users/admin/Desktop/PLS_continue_2020/y.pkl.gz', 'rb'))"
   ]
  },
  {
   "cell_type": "markdown",
   "metadata": {},
   "source": [
    "# N-PLS1"
   ]
  },
  {
   "cell_type": "markdown",
   "metadata": {},
   "source": [
    "## Выберем столбец у с которым будем работать"
   ]
  },
  {
   "cell_type": "code",
   "execution_count": 4,
   "metadata": {},
   "outputs": [],
   "source": [
    "m=0"
   ]
  },
  {
   "cell_type": "markdown",
   "metadata": {},
   "source": [
    "## Посчитаем Z"
   ]
  },
  {
   "cell_type": "code",
   "execution_count": 5,
   "metadata": {},
   "outputs": [],
   "source": [
    "z=np.zeros([206,55])"
   ]
  },
  {
   "cell_type": "code",
   "execution_count": 6,
   "metadata": {},
   "outputs": [],
   "source": [
    "for i in range(0,55):\n",
    "    for j in range(0,206):\n",
    "        zsum=0\n",
    "        for k in range(0,35):\n",
    "            zsum+=Xdata_numpy['X'][k,j,i]*Ydata.iloc[k,m]\n",
    "        z[j,i]=zsum"
   ]
  },
  {
   "cell_type": "code",
   "execution_count": 7,
   "metadata": {},
   "outputs": [
    {
     "data": {
      "text/plain": [
       "array([[ 0.        ,  0.        ,  0.        , ...,  0.        ,\n",
       "         0.        ,  0.        ],\n",
       "       [ 0.        ,  0.        ,  0.        , ...,  0.        ,\n",
       "         0.        ,  0.        ],\n",
       "       [ 0.        ,  0.        ,  0.        , ...,  0.        ,\n",
       "         0.        ,  0.        ],\n",
       "       ...,\n",
       "       [ 0.        ,  0.        , 30.42741355, ...,  0.        ,\n",
       "         0.        ,  0.        ],\n",
       "       [ 0.        ,  0.        , 29.76362119, ...,  0.        ,\n",
       "         0.        ,  0.        ],\n",
       "       [ 0.        ,  0.        , 29.36079377, ...,  0.        ,\n",
       "         0.        ,  0.        ]])"
      ]
     },
     "execution_count": 7,
     "metadata": {},
     "output_type": "execute_result"
    }
   ],
   "source": [
    "z"
   ]
  },
  {
   "cell_type": "markdown",
   "metadata": {},
   "source": [
    "## Разложим Z на вектора W$^{J}_{f}$ и W$^{I}_{f}$"
   ]
  },
  {
   "cell_type": "code",
   "execution_count": 8,
   "metadata": {},
   "outputs": [],
   "source": [
    "Wk, S, WI = np.linalg.svd(z)"
   ]
  },
  {
   "cell_type": "code",
   "execution_count": 9,
   "metadata": {},
   "outputs": [
    {
     "data": {
      "text/plain": [
       "(55, 55)"
      ]
     },
     "execution_count": 9,
     "metadata": {},
     "output_type": "execute_result"
    }
   ],
   "source": [
    "WI.shape"
   ]
  },
  {
   "cell_type": "code",
   "execution_count": 10,
   "metadata": {},
   "outputs": [
    {
     "data": {
      "text/plain": [
       "<Figure size 640x480 with 1 Axes>"
      ]
     },
     "metadata": {},
     "output_type": "display_data"
    }
   ],
   "source": [
    "import matplotlib.pyplot as plt\n",
    "plt.imshow(WI, aspect=\"auto\")\n",
    "plt.show();"
   ]
  },
  {
   "cell_type": "code",
   "execution_count": 11,
   "metadata": {},
   "outputs": [
    {
     "data": {
      "image/png": "[encoded data removed]",
      "text/plain": [
       "<Figure size 432x288 with 1 Axes>"
      ]
     },
     "metadata": {
      "needs_background": "light"
     },
     "output_type": "display_data"
    }
   ],
   "source": [
    "plt.plot(WI[3,:])\n",
    "plt.show();"
   ]
  },
  {
   "cell_type": "markdown",
   "metadata": {},
   "source": [
    "# Перейду к подбору нужной комбинации векторов для кронекеровского произведения для весов"
   ]
  },
  {
   "cell_type": "code",
   "execution_count": null,
   "metadata": {},
   "outputs": [],
   "source": [
    "for i in range(0,206):\n",
    "    for j in range(0,55):\n",
    "        w_k=Wk[i,:]\n",
    "        w_i=WI[j,:]\n",
    "        t=[]\n",
    "        for h in range(0,35):\n",
    "            t+=[w_k.transpose*Xdata_numpy['X'][h,:,:]*w_i]\n",
    "        t=np.array([t])\n",
    "        T+=[t]\n",
    "        T=np.array([T])"
   ]
  },
  {
   "cell_type": "markdown",
   "metadata": {},
   "source": [
    "# Приближение к правильному алгоритму"
   ]
  },
  {
   "cell_type": "code",
   "execution_count": 104,
   "metadata": {},
   "outputs": [],
   "source": [
    "from sklearn.model_selection import train_test_split"
   ]
  },
  {
   "cell_type": "code",
   "execution_count": 107,
   "metadata": {},
   "outputs": [],
   "source": [
    "X_train, X_test, y_train, y_test = train_test_split(\n",
    "    Xdata_numpy[\"X\"], Ydata.iloc[:,m], test_size=0.2857 \n",
    "    )"
   ]
  },
  {
   "cell_type": "code",
   "execution_count": 110,
   "metadata": {},
   "outputs": [
    {
     "data": {
      "text/plain": [
       "25"
      ]
     },
     "execution_count": 110,
     "metadata": {},
     "output_type": "execute_result"
    }
   ],
   "source": [
    "X_train.shape[0]"
   ]
  },
  {
   "cell_type": "code",
   "execution_count": 133,
   "metadata": {},
   "outputs": [],
   "source": [
    "x=X_train"
   ]
  },
  {
   "cell_type": "code",
   "execution_count": 134,
   "metadata": {},
   "outputs": [],
   "source": [
    "y=y_train"
   ]
  },
  {
   "cell_type": "code",
   "execution_count": 135,
   "metadata": {},
   "outputs": [],
   "source": [
    "y=np.array(y)"
   ]
  },
  {
   "cell_type": "code",
   "execution_count": 136,
   "metadata": {},
   "outputs": [],
   "source": [
    "x=np.array(x)"
   ]
  },
  {
   "cell_type": "code",
   "execution_count": 138,
   "metadata": {},
   "outputs": [
    {
     "name": "stdout",
     "output_type": "stream",
     "text": [
      "-2.5440464063319646e-07\n",
      "9.573124638630788e-07\n",
      "9.446016852888508e-07\n",
      "9.890607157083663e-07\n",
      "9.778188516865846e-07\n",
      "9.671969415508681e-07\n",
      "1.3353735736216738e-06\n",
      "1.6424504740442071e-06\n",
      "1.4370126492401654e-06\n",
      "1.8005458838051853e-06\n",
      "1.6221226898485967e-06\n",
      "5.277095025088345e-07\n",
      "4.455094686566443e-07\n",
      "-4.2008852821905813e-07\n",
      "1.1690154064986112e-08\n",
      "-3.2196561859156374e-08\n",
      "-6.692215807255225e-10\n",
      "1.276934212976907e-08\n",
      "3.3058161810733144e-09\n",
      "-5.738416838184916e-09\n",
      "-9.86797334407254e-09\n",
      "1.2664655860282138e-10\n",
      "6.793426100726998e-11\n",
      "5.005565564849131e-12\n",
      "2.4240199174077915e-11\n",
      "-6.237173329573211e-11\n",
      "-1.4073189354323987e-11\n",
      "-1.2203756651335395e-12\n",
      "-4.5125657016574474e-13\n",
      "-8.924251482484278e-13\n",
      "-1.2591794169915971e-13\n",
      "1.187000619657713e-13\n",
      "6.362039358149155e-14\n",
      "-8.328555071879531e-15\n",
      "-2.205872019840845e-12\n",
      "-5.4763977852194214e-14\n",
      "-8.56414397285156e-12\n",
      "3.72969390128952e-12\n",
      "3.4006062641999917e-12\n",
      "-1.5273666247176202e-10\n",
      "-1.1346105936147015e-09\n",
      "1.998845015181033e-09\n",
      "-2.6308685061156804e-09\n",
      "2.3176922031460003e-09\n",
      "-1.6136164551220507e-08\n",
      "1.4719758188924483e-08\n",
      "-2.3471128548980165e-08\n",
      "-9.323119312961069e-08\n",
      "1.4383870854297304e-06\n",
      "3.0977434157408595e-06\n",
      "4.8091392186937464e-05\n",
      "2.4361777613290172e-05\n",
      "0.0004847744757608541\n",
      "0.0072957998021067815\n",
      "0.004632142475578769\n"
     ]
    }
   ],
   "source": [
    "Tt=[]\n",
    "for f in range(0,55):\n",
    "    z=z=np.zeros([x.shape[1],x.shape[2]])\n",
    "    for i in range(0,x.shape[2]):\n",
    "        for j in range(0,x.shape[1]):\n",
    "            zsum=0\n",
    "            for k in range(0,x.shape[0]):\n",
    "                zsum= zsum+ x[k,j,i]*y[k]\n",
    "            z[j,i]=zsum\n",
    "    Wk, S, WI = np.linalg.svd(z)\n",
    "    w_k=np.array(Wk[0,:]).reshape(x.shape[1],1)\n",
    "    w_i=np.array(WI[0,:]).reshape(x.shape[2],1)\n",
    "    \n",
    "    t=[]\n",
    "    for h in range(0,x.shape[0]):\n",
    "        t+=[np.dot(np.dot(w_k.transpose(),x[h,:,:]),w_i)]\n",
    "    t=np.array(t).reshape(x.shape[0],1)\n",
    "    Tt+=[t]\n",
    "    T=np.array(Tt).reshape(x.shape[0],f+1)\n",
    "    bf=np.dot(np.dot(np.linalg.inv(np.dot(T.transpose(),T)),T.transpose()),y)\n",
    "    \n",
    "    for g in range(0,x.shape[0]):\n",
    "        x[g,:,:]=x[g,:,:]-(t[g]*w_i.transpose()*w_k)\n",
    "    print(y[1])\n",
    "    y=y-(np.dot(T,bf))"
   ]
  },
  {
   "cell_type": "code",
   "execution_count": 54,
   "metadata": {},
   "outputs": [
    {
     "name": "stdout",
     "output_type": "stream",
     "text": [
      "()\n"
     ]
    }
   ],
   "source": [
    "print(y.shape)"
   ]
  },
  {
   "cell_type": "code",
   "execution_count": 44,
   "metadata": {},
   "outputs": [
    {
     "data": {
      "text/plain": [
       "<bound method NDFrame.copy of        Gominy       Tyr       Trp\n",
       "0   45.446791  3.718645  1.658959\n",
       "1   53.715968  1.519253  2.908843\n",
       "2   39.837588  3.514326  1.093680\n",
       "3   31.410666  4.107808  2.413380\n",
       "4   42.444629  2.397802  2.822168\n",
       "5   36.479939  1.771192  3.826668\n",
       "6   36.112553  2.080763  0.700694\n",
       "7   44.049334  3.959066  3.163625\n",
       "8   35.354605  1.172333  2.195268\n",
       "9   47.441840  3.046104  4.011521\n",
       "10  47.577334  3.345482  1.008305\n",
       "11  38.622683  2.530967  3.533570\n",
       "12  44.546831  0.838763  4.215091\n",
       "13  35.724431  4.261243  4.150726\n",
       "14  54.640664  2.577719  3.679025\n",
       "15  49.409746  1.336314  0.847238\n",
       "16  26.197475  2.164723  4.313643\n",
       "17  36.226228  3.546828  1.899125\n",
       "18  43.272738  1.845509  1.326550\n",
       "19  34.070473  3.942426  1.985984\n",
       "20  34.193088  1.458561  3.409581\n",
       "21  33.342049  3.152387  3.504425\n",
       "22  41.039801  3.836094  3.841496\n",
       "23  47.996257  2.959377  3.267010\n",
       "24  42.147702  1.660952  0.743222\n",
       "25  34.242464  0.978959  2.295310\n",
       "26  36.909160  0.675008  2.593348\n",
       "27  28.183879  3.254376  1.214369\n",
       "28  21.411182  1.975625  1.761738\n",
       "29  46.322119  4.337124  1.445909\n",
       "30  44.399737  0.917103  1.507299\n",
       "31  39.901821  2.255847  2.737940\n",
       "32  56.046637  2.683477  2.043408\n",
       "33  35.398815  2.874864  2.494299\n",
       "34  35.695793  1.099916  3.073375>"
      ]
     },
     "execution_count": 44,
     "metadata": {},
     "output_type": "execute_result"
    }
   ],
   "source": [
    "y"
   ]
  },
  {
   "cell_type": "code",
   "execution_count": null,
   "metadata": {},
   "outputs": [],
   "source": []
  }
 ],
 "metadata": {
  "kernelspec": {
   "display_name": "Python 3",
   "language": "python",
   "name": "python3"
  },
  "language_info": {
   "codemirror_mode": {
    "name": "ipython",
    "version": 3
   },
   "file_extension": ".py",
   "mimetype": "text/x-python",
   "name": "python",
   "nbconvert_exporter": "python",
   "pygments_lexer": "ipython3",
   "version": "3.7.4"
  }
 },
 "nbformat": 4,
 "nbformat_minor": 2
}
