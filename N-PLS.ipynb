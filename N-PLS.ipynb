{
 "cells": [
  {
   "cell_type": "markdown",
   "metadata": {},
   "source": [
    "# Импорт библиотек"
   ]
  },
  {
   "cell_type": "code",
   "execution_count": 1,
   "metadata": {},
   "outputs": [],
   "source": [
    "import numpy as np\n",
    "from gzip import open # NB: overrides standard open()\n",
    "import pickle as pkl\n",
    "import pandas as pd\n",
    "import warnings \n",
    "from glob import glob\n",
    "import os\n",
    "import math\n",
    "import functools"
   ]
  },
  {
   "cell_type": "markdown",
   "metadata": {},
   "source": [
    "### Отключим предупреждения Anaconda"
   ]
  },
  {
   "cell_type": "code",
   "execution_count": 2,
   "metadata": {},
   "outputs": [],
   "source": [
    "warnings.simplefilter('ignore')"
   ]
  },
  {
   "cell_type": "markdown",
   "metadata": {},
   "source": [
    "# Загрузим данные"
   ]
  },
  {
   "cell_type": "code",
   "execution_count": 3,
   "metadata": {},
   "outputs": [],
   "source": [
    "Xdata_numpy = pkl.load(open('C:/Users/admin/Desktop/PLS_continue_2020/X.pkl.gz', 'rb'))\n",
    "Ydata = pkl.load(open('C:/Users/admin/Desktop/PLS_continue_2020/y.pkl.gz', 'rb'))"
   ]
  },
  {
   "cell_type": "markdown",
   "metadata": {},
   "source": [
    "# N-PLS1"
   ]
  },
  {
   "cell_type": "markdown",
   "metadata": {},
   "source": [
    "## Выберем столбец у с которым будем работать"
   ]
  },
  {
   "cell_type": "code",
   "execution_count": 4,
   "metadata": {},
   "outputs": [],
   "source": [
    "m=0"
   ]
  },
  {
   "cell_type": "markdown",
   "metadata": {},
   "source": [
    "## Посчитаем Z"
   ]
  },
  {
   "cell_type": "code",
   "execution_count": 5,
   "metadata": {},
   "outputs": [],
   "source": [
    "z=np.zeros([206,55])"
   ]
  },
  {
   "cell_type": "code",
   "execution_count": 6,
   "metadata": {},
   "outputs": [],
   "source": [
    "for i in range(0,55):\n",
    "    for j in range(0,206):\n",
    "        zsum=0\n",
    "        for k in range(0,35):\n",
    "            zsum+=Xdata_numpy['X'][k,j,i]*Ydata.iloc[k,m]\n",
    "        z[j,i]=zsum"
   ]
  },
  {
   "cell_type": "code",
   "execution_count": 7,
   "metadata": {},
   "outputs": [
    {
     "data": {
      "text/plain": [
       "array([[ 0.        ,  0.        ,  0.        , ...,  0.        ,\n",
       "         0.        ,  0.        ],\n",
       "       [ 0.        ,  0.        ,  0.        , ...,  0.        ,\n",
       "         0.        ,  0.        ],\n",
       "       [ 0.        ,  0.        ,  0.        , ...,  0.        ,\n",
       "         0.        ,  0.        ],\n",
       "       ...,\n",
       "       [ 0.        ,  0.        , 30.42741355, ...,  0.        ,\n",
       "         0.        ,  0.        ],\n",
       "       [ 0.        ,  0.        , 29.76362119, ...,  0.        ,\n",
       "         0.        ,  0.        ],\n",
       "       [ 0.        ,  0.        , 29.36079377, ...,  0.        ,\n",
       "         0.        ,  0.        ]])"
      ]
     },
     "execution_count": 7,
     "metadata": {},
     "output_type": "execute_result"
    }
   ],
   "source": [
    "z"
   ]
  },
  {
   "cell_type": "markdown",
   "metadata": {},
   "source": [
    "## Разложим Z на вектора W$^{J}_{f}$ и W$^{I}_{f}$"
   ]
  },
  {
   "cell_type": "code",
   "execution_count": 8,
   "metadata": {},
   "outputs": [],
   "source": [
    "Wk, S, WI = np.linalg.svd(z)"
   ]
  },
  {
   "cell_type": "code",
   "execution_count": 9,
   "metadata": {},
   "outputs": [
    {
     "data": {
      "text/plain": [
       "(55, 55)"
      ]
     },
     "execution_count": 9,
     "metadata": {},
     "output_type": "execute_result"
    }
   ],
   "source": [
    "WI.shape"
   ]
  },
  {
   "cell_type": "code",
   "execution_count": 10,
   "metadata": {},
   "outputs": [
    {
     "data": {
      "text/plain": [
       "<Figure size 640x480 with 1 Axes>"
      ]
     },
     "metadata": {},
     "output_type": "display_data"
    }
   ],
   "source": [
    "import matplotlib.pyplot as plt\n",
    "plt.imshow(WI, aspect=\"auto\")\n",
    "plt.show();"
   ]
  },
  {
   "cell_type": "code",
   "execution_count": 11,
   "metadata": {},
   "outputs": [
    {
     "data": {
      "image/png": "[encoded data removed]",
      "text/plain": [
       "<Figure size 432x288 with 1 Axes>"
      ]
     },
     "metadata": {
      "needs_background": "light"
     },
     "output_type": "display_data"
    }
   ],
   "source": [
    "plt.plot(WI[3,:])\n",
    "plt.show();"
   ]
  },
  {
   "cell_type": "markdown",
   "metadata": {},
   "source": [
    "# Перейду к подбору нужной комбинации векторов для кронекеровского произведения для весов"
   ]
  },
  {
   "cell_type": "code",
   "execution_count": null,
   "metadata": {},
   "outputs": [],
   "source": [
    "for i in range(0,206):\n",
    "    for j in range(0,55):\n",
    "        w_k=Wk[i,:]\n",
    "        w_i=WI[j,:]\n",
    "        t=[]\n",
    "        for h in range(0,35):\n",
    "            t+=[w_k.transpose*Xdata_numpy['X'][h,:,:]*w_i]\n",
    "        t=np.array([t])\n",
    "        T+=[t]\n",
    "        T=np.array([T])"
   ]
  },
  {
   "cell_type": "markdown",
   "metadata": {},
   "source": [
    "### Завтра переделай алгоритм на основе того, что осознал сегодня"
   ]
  },
  {
   "cell_type": "code",
   "execution_count": 81,
   "metadata": {},
   "outputs": [],
   "source": [
    "x=Xdata_numpy['X']"
   ]
  },
  {
   "cell_type": "code",
   "execution_count": 82,
   "metadata": {},
   "outputs": [],
   "source": [
    "y=Ydata.iloc[:,m]"
   ]
  },
  {
   "cell_type": "code",
   "execution_count": 83,
   "metadata": {},
   "outputs": [],
   "source": [
    "x=np.array(x)"
   ]
  },
  {
   "cell_type": "code",
   "execution_count": 84,
   "metadata": {},
   "outputs": [
    {
     "data": {
      "text/plain": [
       "0     45.446791\n",
       "1     53.715968\n",
       "2     39.837588\n",
       "3     31.410666\n",
       "4     42.444629\n",
       "5     36.479939\n",
       "6     36.112553\n",
       "7     44.049334\n",
       "8     35.354605\n",
       "9     47.441840\n",
       "10    47.577334\n",
       "11    38.622683\n",
       "12    44.546831\n",
       "13    35.724431\n",
       "14    54.640664\n",
       "15    49.409746\n",
       "16    26.197475\n",
       "17    36.226228\n",
       "18    43.272738\n",
       "19    34.070473\n",
       "20    34.193088\n",
       "21    33.342049\n",
       "22    41.039801\n",
       "23    47.996257\n",
       "24    42.147702\n",
       "25    34.242464\n",
       "26    36.909160\n",
       "27    28.183879\n",
       "28    21.411182\n",
       "29    46.322119\n",
       "30    44.399737\n",
       "31    39.901821\n",
       "32    56.046637\n",
       "33    35.398815\n",
       "34    35.695793\n",
       "Name: Gominy, dtype: float64"
      ]
     },
     "execution_count": 84,
     "metadata": {},
     "output_type": "execute_result"
    }
   ],
   "source": [
    "y"
   ]
  },
  {
   "cell_type": "code",
   "execution_count": 103,
   "metadata": {},
   "outputs": [
    {
     "name": "stdout",
     "output_type": "stream",
     "text": [
      "[[-2.01144184]\n",
      " [-2.1504415 ]\n",
      " [-1.7202714 ]\n",
      " [-2.95342895]\n",
      " [-2.42663581]\n",
      " [-2.15400904]\n",
      " [-1.09877155]\n",
      " [-3.36253554]\n",
      " [-1.90014542]\n",
      " [-2.70099868]\n",
      " [-1.82883787]\n",
      " [-2.93970016]\n",
      " [-2.83780924]\n",
      " [-4.00658656]\n",
      " [-3.03228195]\n",
      " [-1.12616308]\n",
      " [-3.29050622]\n",
      " [-2.55941702]\n",
      " [-1.57321321]\n",
      " [-2.12120329]\n",
      " [-2.34309875]\n",
      " [-2.93677961]\n",
      " [-3.65554969]\n",
      " [-2.88792647]\n",
      " [-1.04836927]\n",
      " [-1.65617615]\n",
      " [-2.01983542]\n",
      " [-1.77225543]\n",
      " [-1.64768427]\n",
      " [-2.08907253]\n",
      " [-1.33643469]\n",
      " [-2.05561632]\n",
      " [-1.92947908]\n",
      " [-1.71985269]\n",
      " [-1.90649933]]\n",
      "(35, 1)\n",
      "(35,)\n",
      "[[0.05484985]\n",
      " [0.05015674]\n",
      " [0.0546844 ]\n",
      " [0.08891414]\n",
      " [0.06109327]\n",
      " [0.05452046]\n",
      " [0.03525208]\n",
      " [0.09658078]\n",
      " [0.04817085]\n",
      " [0.06640316]\n",
      " [0.05941768]\n",
      " [0.07687477]\n",
      " [0.065845  ]\n",
      " [0.11227095]\n",
      " [0.06745662]\n",
      " [0.03109581]\n",
      " [0.08252737]\n",
      " [0.07701239]\n",
      " [0.04299229]\n",
      " [0.06850241]\n",
      " [0.06280546]\n",
      " [0.08040772]\n",
      " [0.103241  ]\n",
      " [0.08004393]\n",
      " [0.03094619]\n",
      " [0.03984793]\n",
      " [0.04688587]\n",
      " [0.05355597]\n",
      " [0.04546969]\n",
      " [0.06421797]\n",
      " [0.02737423]\n",
      " [0.04602207]\n",
      " [0.05158234]\n",
      " [0.04643567]\n",
      " [0.04552394]]\n",
      "(35, 2)\n",
      "(35,)\n",
      "[[-1.75813374]\n",
      " [-1.99193576]\n",
      " [-1.40237229]\n",
      " [-2.4512159 ]\n",
      " [-2.15709787]\n",
      " [-1.94000806]\n",
      " [-0.88353453]\n",
      " [-2.94522315]\n",
      " [-1.70319969]\n",
      " [-2.40089941]\n",
      " [-1.47154231]\n",
      " [-2.5963184 ]\n",
      " [-2.5930974 ]\n",
      " [-3.42179831]\n",
      " [-2.7966163 ]\n",
      " [-0.97924233]\n",
      " [-3.01470336]\n",
      " [-2.11174427]\n",
      " [-1.35264073]\n",
      " [-1.72905123]\n",
      " [-2.11938803]\n",
      " [-2.56559639]\n",
      " [-3.08111945]\n",
      " [-2.49579407]\n",
      " [-0.85029824]\n",
      " [-1.50972943]\n",
      " [-1.87405162]\n",
      " [-1.44241067]\n",
      " [-1.40769854]\n",
      " [-1.7119655 ]\n",
      " [-1.17775345]\n",
      " [-1.87503477]\n",
      " [-1.71326807]\n",
      " [-1.50569678]\n",
      " [-1.73810381]]\n",
      "(35, 3)\n",
      "(35,)\n",
      "[[-2.31085737]\n",
      " [-2.69912728]\n",
      " [-1.80622036]\n",
      " [-3.26057686]\n",
      " [-2.92763594]\n",
      " [-2.63176524]\n",
      " [-1.10997194]\n",
      " [-3.97720027]\n",
      " [-2.3072875 ]\n",
      " [-3.21904211]\n",
      " [-1.8955449 ]\n",
      " [-3.47823318]\n",
      " [-3.56491381]\n",
      " [-4.62953526]\n",
      " [-3.78158752]\n",
      " [-1.28851839]\n",
      " [-4.01908705]\n",
      " [-2.75878671]\n",
      " [-1.78289655]\n",
      " [-2.28788016]\n",
      " [-2.85822109]\n",
      " [-3.42611225]\n",
      " [-4.15882607]\n",
      " [-3.3513361 ]\n",
      " [-1.12369892]\n",
      " [-2.02588196]\n",
      " [-2.56829414]\n",
      " [-1.88045639]\n",
      " [-1.86209314]\n",
      " [-2.24785324]\n",
      " [-1.55473471]\n",
      " [-2.55621206]\n",
      " [-2.26572449]\n",
      " [-2.04409803]\n",
      " [-2.3553549 ]]\n",
      "(35, 4)\n",
      "(35,)\n",
      "[[-2.48612512]\n",
      " [-3.04478342]\n",
      " [-1.93274184]\n",
      " [-3.50392529]\n",
      " [-3.23185044]\n",
      " [-2.94224693]\n",
      " [-1.19461415]\n",
      " [-4.3721749 ]\n",
      " [-2.56839369]\n",
      " [-3.6199355 ]\n",
      " [-1.99176029]\n",
      " [-3.83276052]\n",
      " [-4.03374743]\n",
      " [-5.13188164]\n",
      " [-4.32092307]\n",
      " [-1.38678836]\n",
      " [-4.46056072]\n",
      " [-2.98606698]\n",
      " [-1.96689345]\n",
      " [-2.40458057]\n",
      " [-3.20466578]\n",
      " [-3.73222355]\n",
      " [-4.49494378]\n",
      " [-3.63475303]\n",
      " [-1.1863257 ]\n",
      " [-2.23793582]\n",
      " [-2.84163602]\n",
      " [-1.99595025]\n",
      " [-2.03683179]\n",
      " [-2.39332302]\n",
      " [-1.76544401]\n",
      " [-2.83158719]\n",
      " [-2.5025407 ]\n",
      " [-2.22353064]\n",
      " [-2.66444133]]\n",
      "(35, 5)\n",
      "(35,)\n"
     ]
    }
   ],
   "source": [
    "Tt=[]\n",
    "for f in range(0,5):\n",
    "    z=z=np.zeros([206,55])\n",
    "    for i in range(0,55):\n",
    "        for j in range(0,206):\n",
    "            zsum=0\n",
    "            for k in range(0,35):\n",
    "                zsum= zsum+ x[k,j,i]*y[k]\n",
    "            z[j,i]=zsum\n",
    "    Wk, S, WI = np.linalg.svd(z)\n",
    "    w_k=np.array(Wk[0,:]).reshape(206,1)\n",
    "    w_i=np.array(WI[0,:]).reshape(55,1)\n",
    "    \n",
    "    t=[]\n",
    "    for h in range(0,35):\n",
    "        t+=[np.dot(np.dot(w_k.transpose(),x[h,:,:]),w_i)]\n",
    "    t=np.array(t).reshape(35,1)\n",
    "    print(t)\n",
    "    Tt+=[t]\n",
    "    T=np.array(Tt).reshape(35,f+1)\n",
    "    print(T.shape)\n",
    "    bf=np.dot(np.dot(np.linalg.inv(np.dot(T.transpose(),T)),T.transpose()),y)\n",
    "    \n",
    "    for g in range(0,35):\n",
    "        x[g,:,:]=x[g,:,:]-(t[g]*w_i.transpose()*w_k)\n",
    "    y=y-(np.dot(T,bf))\n",
    "    print(y.shape)"
   ]
  },
  {
   "cell_type": "code",
   "execution_count": 54,
   "metadata": {},
   "outputs": [
    {
     "name": "stdout",
     "output_type": "stream",
     "text": [
      "()\n"
     ]
    }
   ],
   "source": [
    "print(y.shape)"
   ]
  },
  {
   "cell_type": "code",
   "execution_count": 44,
   "metadata": {},
   "outputs": [
    {
     "data": {
      "text/plain": [
       "<bound method NDFrame.copy of        Gominy       Tyr       Trp\n",
       "0   45.446791  3.718645  1.658959\n",
       "1   53.715968  1.519253  2.908843\n",
       "2   39.837588  3.514326  1.093680\n",
       "3   31.410666  4.107808  2.413380\n",
       "4   42.444629  2.397802  2.822168\n",
       "5   36.479939  1.771192  3.826668\n",
       "6   36.112553  2.080763  0.700694\n",
       "7   44.049334  3.959066  3.163625\n",
       "8   35.354605  1.172333  2.195268\n",
       "9   47.441840  3.046104  4.011521\n",
       "10  47.577334  3.345482  1.008305\n",
       "11  38.622683  2.530967  3.533570\n",
       "12  44.546831  0.838763  4.215091\n",
       "13  35.724431  4.261243  4.150726\n",
       "14  54.640664  2.577719  3.679025\n",
       "15  49.409746  1.336314  0.847238\n",
       "16  26.197475  2.164723  4.313643\n",
       "17  36.226228  3.546828  1.899125\n",
       "18  43.272738  1.845509  1.326550\n",
       "19  34.070473  3.942426  1.985984\n",
       "20  34.193088  1.458561  3.409581\n",
       "21  33.342049  3.152387  3.504425\n",
       "22  41.039801  3.836094  3.841496\n",
       "23  47.996257  2.959377  3.267010\n",
       "24  42.147702  1.660952  0.743222\n",
       "25  34.242464  0.978959  2.295310\n",
       "26  36.909160  0.675008  2.593348\n",
       "27  28.183879  3.254376  1.214369\n",
       "28  21.411182  1.975625  1.761738\n",
       "29  46.322119  4.337124  1.445909\n",
       "30  44.399737  0.917103  1.507299\n",
       "31  39.901821  2.255847  2.737940\n",
       "32  56.046637  2.683477  2.043408\n",
       "33  35.398815  2.874864  2.494299\n",
       "34  35.695793  1.099916  3.073375>"
      ]
     },
     "execution_count": 44,
     "metadata": {},
     "output_type": "execute_result"
    }
   ],
   "source": [
    "y"
   ]
  },
  {
   "cell_type": "code",
   "execution_count": null,
   "metadata": {},
   "outputs": [],
   "source": []
  }
 ],
 "metadata": {
  "kernelspec": {
   "display_name": "Python 3",
   "language": "python",
   "name": "python3"
  },
  "language_info": {
   "codemirror_mode": {
    "name": "ipython",
    "version": 3
   },
   "file_extension": ".py",
   "mimetype": "text/x-python",
   "name": "python",
   "nbconvert_exporter": "python",
   "pygments_lexer": "ipython3",
   "version": "3.7.4"
  }
 },
 "nbformat": 4,
 "nbformat_minor": 2
}
