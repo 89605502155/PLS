{
 "cells": [
  {
   "cell_type": "markdown",
   "metadata": {},
   "source": [
    "# Импорт библиотек"
   ]
  },
  {
   "cell_type": "code",
   "execution_count": 1,
   "metadata": {},
   "outputs": [],
   "source": [
    "import numpy as np\n",
    "from gzip import open # NB: overrides standard open()\n",
    "import pickle as pkl\n",
    "import pandas as pd\n",
    "import warnings \n",
    "from glob import glob\n",
    "import os\n",
    "import math\n",
    "import functools"
   ]
  },
  {
   "cell_type": "markdown",
   "metadata": {},
   "source": [
    "### Отключим предупреждения Anaconda"
   ]
  },
  {
   "cell_type": "code",
   "execution_count": 2,
   "metadata": {},
   "outputs": [],
   "source": [
    "warnings.simplefilter('ignore')"
   ]
  },
  {
   "cell_type": "markdown",
   "metadata": {},
   "source": [
    "# Загрузим данные"
   ]
  },
  {
   "cell_type": "code",
   "execution_count": 3,
   "metadata": {},
   "outputs": [],
   "source": [
    "Xdata_numpy = pkl.load(open('C:/Users/admin/Desktop/PLS_continue_2020/X.pkl.gz', 'rb'))\n",
    "Ydata = pkl.load(open('C:/Users/admin/Desktop/PLS_continue_2020/y.pkl.gz', 'rb'))"
   ]
  },
  {
   "cell_type": "markdown",
   "metadata": {},
   "source": [
    "# N-PLS1"
   ]
  },
  {
   "cell_type": "markdown",
   "metadata": {},
   "source": [
    "## Выберем столбец у с которым будем работать"
   ]
  },
  {
   "cell_type": "code",
   "execution_count": 4,
   "metadata": {},
   "outputs": [],
   "source": [
    "m=0"
   ]
  },
  {
   "cell_type": "markdown",
   "metadata": {},
   "source": [
    "# Приближение к правильному алгоритму"
   ]
  },
  {
   "cell_type": "code",
   "execution_count": 104,
   "metadata": {},
   "outputs": [],
   "source": [
    "from sklearn.model_selection import train_test_split"
   ]
  },
  {
   "cell_type": "code",
   "execution_count": 219,
   "metadata": {},
   "outputs": [],
   "source": [
    "X_train, X_test, y_train, y_test = train_test_split(\n",
    "    Xdata_numpy[\"X\"], Ydata.iloc[:,m], test_size=0.2857 \n",
    "    )"
   ]
  },
  {
   "cell_type": "code",
   "execution_count": 220,
   "metadata": {},
   "outputs": [
    {
     "data": {
      "text/plain": [
       "25"
      ]
     },
     "execution_count": 220,
     "metadata": {},
     "output_type": "execute_result"
    }
   ],
   "source": [
    "X_train.shape[0]"
   ]
  },
  {
   "cell_type": "code",
   "execution_count": 279,
   "metadata": {},
   "outputs": [],
   "source": [
    "x=X_train"
   ]
  },
  {
   "cell_type": "code",
   "execution_count": 280,
   "metadata": {},
   "outputs": [],
   "source": [
    "y=y_train"
   ]
  },
  {
   "cell_type": "code",
   "execution_count": 281,
   "metadata": {},
   "outputs": [],
   "source": [
    "y=np.array(y)"
   ]
  },
  {
   "cell_type": "code",
   "execution_count": 282,
   "metadata": {},
   "outputs": [],
   "source": [
    "x=np.array(x)"
   ]
  },
  {
   "cell_type": "code",
   "execution_count": 264,
   "metadata": {},
   "outputs": [],
   "source": [
    "yo=y"
   ]
  },
  {
   "cell_type": "code",
   "execution_count": 316,
   "metadata": {},
   "outputs": [],
   "source": [
    "# a-numpy array;  b-pandas array\n",
    "def error(a,b):\n",
    "    s=0\n",
    "    for i in range(0,len(a)):\n",
    "        s+=((a[i]-b.iloc[i]))**2\n",
    "    return s"
   ]
  },
  {
   "cell_type": "code",
   "execution_count": 329,
   "metadata": {},
   "outputs": [],
   "source": [
    "def function_1(x,y,yo,fn):\n",
    "    Tt=[]\n",
    "    mass=np.zeros([y.shape[0]])\n",
    "    output=[]\n",
    "    for f in range(0,fn):\n",
    "        z=np.zeros([x.shape[1],x.shape[2]])\n",
    "        for i in range(0,x.shape[2]):\n",
    "            for j in range(0,x.shape[1]):\n",
    "                zsum=0\n",
    "                for k in range(0,x.shape[0]):\n",
    "                    zsum= zsum+ x[k,j,i]*y[k]\n",
    "                z[j,i]=zsum\n",
    "        Wk, S, WI = np.linalg.svd(z)\n",
    "        w_k=np.array(Wk[0,:]).reshape(x.shape[1],1)\n",
    "        w_i=np.array(WI[0,:]).reshape(x.shape[2],1)\n",
    "        t=[]\n",
    "        for h in range(0,x.shape[0]):\n",
    "            t+=[np.dot(np.dot(w_k.transpose(),x[h,:,:]),w_i)]\n",
    "        t=np.array(t).reshape(x.shape[0],1)\n",
    "        Tt+=[t]\n",
    "        T=np.array(Tt).reshape(x.shape[0],f+1)\n",
    "        bf=np.dot(np.dot(np.linalg.inv(np.dot(T.transpose(),T)),T.transpose()),y)\n",
    "    \n",
    "        for g in range(0,x.shape[0]):\n",
    "            x[g,:,:]=x[g,:,:]-(t[g]*w_i.transpose()*w_k)\n",
    "        y=y-(np.dot(T,bf))\n",
    "        mass+=np.dot(T,bf)\n",
    "        output+=[error(mass,yo)]\n",
    "    return output"
   ]
  },
  {
   "cell_type": "markdown",
   "metadata": {},
   "source": [
    "## function_2 обеспечит v разовое обучение, чтобы уменьшить зависимость от того, как разрезать данные для обучения"
   ]
  },
  {
   "cell_type": "code",
   "execution_count": 334,
   "metadata": {},
   "outputs": [
    {
     "name": "stdout",
     "output_type": "stream",
     "text": [
      "[7458.117246289611, 7142.205052096937, 6116.042564266906, 5415.237073464247, 4324.07352094268, 3276.0374007366936, 2192.447268249104, 1378.872119484022, 1321.3578038752628, 1156.8658405972922, 1057.9871188533853, 968.1390641670208, 843.594329646502, 612.6485336077437, 360.43065737030327, 176.1449317221609, 110.442042767776, 32.44325866287714, 22.790463088046042, 8.989841496611476, 4.246909318785259, 2.234555854630046, 0.33393284054115047, 0.055194666518896485, 0.011781406630588815, 1.4655487401226078e-05, 0.0017195051394770892, 0.0562655795781916, 43.122230359301724]\n",
      "\n",
      "[6307.553177444917, 5875.046917187505, 5481.456496505078, 4663.845670623172, 4243.206339659942, 3846.6119046429358, 1628.3478871609946, 742.1694020902447, 479.5361522236941, 404.32229340870225, 163.08105454989231, 91.12157138051116, 59.42748855075144, 34.235394972669226, 18.88175594283277, 16.2392630623914, 4.18171028920358, 3.23242569315034, 3.100166419955989, 2.8428465023955023, 2.7673629294661164, 1.5873103270322408, 0.06442830566828515, 0.03758925535538683, 0.0007487072340668945, 5.0209215238838173e-08, 1.2219871746827565e-08, 5.812324503245029e-10, 2.134770245869685e-09]\n"
     ]
    }
   ],
   "source": [
    "    output2=[]\n",
    "    for p in range(0,1):\n",
    "        X_train, X_test, y_train, y_test = train_test_split(\n",
    "            Xdata_numpy[\"X\"], Ydata.iloc[:,m], test_size=0.2857  \n",
    "            )\n",
    "        x=X_train\n",
    "        x=np.array(x)\n",
    "        y=y_train\n",
    "        y=np.array(y)\n",
    "        yo=y_train\n",
    "        output2+=function_1(x,y,y_train,29)\n",
    "        print(function_1(x,y,y_train,29))\n",
    "    print()\n",
    "    print(output2)"
   ]
  },
  {
   "cell_type": "markdown",
   "metadata": {},
   "source": [
    "#### Ниже изначальная, но, пока ещё нужная для работы версия function_1"
   ]
  },
  {
   "cell_type": "markdown",
   "metadata": {},
   "source": [
    "###### Массив mass собирает разложение обратно, и именно он важен для определения числа комронент"
   ]
  },
  {
   "cell_type": "code",
   "execution_count": 333,
   "metadata": {},
   "outputs": [
    {
     "name": "stdout",
     "output_type": "stream",
     "text": [
      "6594.358996729064\n",
      "6441.831377203219\n",
      "6236.7700456701805\n",
      "4269.057658598826\n",
      "3672.145891701638\n",
      "3388.908051426325\n",
      "2873.6351765110485\n",
      "2155.5459028393266\n",
      "1180.6102305201616\n",
      "715.3067061958991\n",
      "388.90247591885515\n",
      "276.8220658151676\n",
      "152.71341087160997\n",
      "62.681483649143004\n",
      "26.1901518889762\n",
      "7.16061745711831\n",
      "1.7681931266649182\n",
      "0.8097579673771593\n",
      "0.3130067635370711\n",
      "0.004650589020665965\n",
      "0.0006584838065105016\n",
      "0.00023863934639732897\n",
      "0.00010808572314145802\n",
      "7.516214311489103e-05\n",
      "2.0938290779542302e-05\n",
      "0.00011749920509201098\n",
      "0.0003283960268211876\n",
      "0.00021507511304321992\n",
      "0.00014665573254002727\n",
      "0.3144115037369245\n",
      "1.4585239734772737\n",
      "5.812373079584125\n",
      "62.74290176150302\n",
      "307.6321464648081\n",
      "299.07647877057957\n",
      "1696.2934876741617\n",
      "23110.42739214094\n",
      "116839147.01787284\n",
      "3233701496.264039\n",
      "73716608863.07692\n",
      "157503662986401.78\n",
      "544323379447697.6\n",
      "4.76815312348088e+17\n",
      "1.6618320328065986e+21\n",
      "9.558141745240109e+24\n",
      "3.256291471619636e+27\n",
      "3.348961571918542e+28\n",
      "8.414818370874985e+29\n",
      "3.537945350555954e+30\n",
      "3.5655855260285394e+32\n",
      "9.928807721750914e+33\n",
      "2.48791856445022e+37\n",
      "4.0045269028026884e+39\n",
      "1.9272539803342286e+41\n",
      "6.454433072085798e+42\n"
     ]
    }
   ],
   "source": [
    "Tt=[]\n",
    "mass=np.zeros([y.shape[0]])\n",
    "for f in range(0,55):\n",
    "    z=np.zeros([x.shape[1],x.shape[2]])\n",
    "    for i in range(0,x.shape[2]):\n",
    "        for j in range(0,x.shape[1]):\n",
    "            zsum=0\n",
    "            for k in range(0,x.shape[0]):\n",
    "                zsum= zsum+ x[k,j,i]*y[k]\n",
    "            z[j,i]=zsum\n",
    "    Wk, S, WI = np.linalg.svd(z)\n",
    "    w_k=np.array(Wk[0,:]).reshape(x.shape[1],1)\n",
    "    w_i=np.array(WI[0,:]).reshape(x.shape[2],1)\n",
    "    \n",
    "    t=[]\n",
    "    for h in range(0,x.shape[0]):\n",
    "        t+=[np.dot(np.dot(w_k.transpose(),x[h,:,:]),w_i)]\n",
    "    t=np.array(t).reshape(x.shape[0],1)\n",
    "    Tt+=[t]\n",
    "    T=np.array(Tt).reshape(x.shape[0],f+1)\n",
    "    bf=np.dot(np.dot(np.linalg.inv(np.dot(T.transpose(),T)),T.transpose()),y)\n",
    "    for g in range(0,x.shape[0]):\n",
    "        x[g,:,:]=x[g,:,:]-(t[g]*w_i.transpose()*w_k)\n",
    "    y=y-(np.dot(T,bf))\n",
    "    mass+=np.dot(T,bf)\n",
    "    print(error(mass,y_train))"
   ]
  },
  {
   "cell_type": "markdown",
   "metadata": {},
   "source": [
    "# Попробую оформить всё в виде полноценного класса"
   ]
  },
  {
   "cell_type": "code",
   "execution_count": null,
   "metadata": {},
   "outputs": [],
   "source": [
    "class N_PLS1():\n",
    "    def error(a,b):\n",
    "        s=0\n",
    "        for i in range(0,len(a)):\n",
    "            s+=((a[i]-b.iloc[i]))**2\n",
    "        return s\n",
    "    def function_1(x,y,fn):\n",
    "        Tt=[]\n",
    "        mass=np.zeros([y.shape[0]])\n",
    "        output=[]\n",
    "        for f in range(0,fn):\n",
    "            z=np.zeros([x.shape[1],x.shape[2]])\n",
    "            for i in range(0,x.shape[2]):\n",
    "                for j in range(0,x.shape[1]):\n",
    "                    zsum=0\n",
    "                    for k in range(0,x.shape[0]):\n",
    "                        zsum= zsum+ x[k,j,i]*y[k]\n",
    "                    z[j,i]=zsum\n",
    "            Wk, S, WI = np.linalg.svd(z)\n",
    "            w_k=np.array(Wk[0,:]).reshape(x.shape[1],1)\n",
    "            w_i=np.array(WI[0,:]).reshape(x.shape[2],1)\n",
    "            t=[]\n",
    "            for h in range(0,x.shape[0]):\n",
    "                t+=[np.dot(np.dot(w_k.transpose(),x[h,:,:]),w_i)]\n",
    "            t=np.array(t).reshape(x.shape[0],1)\n",
    "            Tt+=[t]\n",
    "            T=np.array(Tt).reshape(x.shape[0],f+1)\n",
    "            bf=np.dot(np.dot(np.linalg.inv(np.dot(T.transpose(),T)),T.transpose()),y)\n",
    "            for g in range(0,x.shape[0]):\n",
    "                x[g,:,:]=x[g,:,:]-(t[g]*w_i.transpose()*w_k)\n",
    "            y=y-(np.dot(T,bf))\n",
    "            mass+=np.dot(T,bf)\n",
    "            output+=[error(mass,y_train)]\n",
    "        return output\n",
    "    def fit(x,y,fn):\n",
    "        \n",
    "            \n",
    "        return y"
   ]
  },
  {
   "cell_type": "code",
   "execution_count": 179,
   "metadata": {},
   "outputs": [
    {
     "data": {
      "text/plain": [
       "array([34.19308759, 35.72443085, 46.32211944, 35.69579348, 47.44184036,\n",
       "       33.34204937, 42.44462856, 39.9018207 , 44.39973652, 54.64066407,\n",
       "       53.71596802, 44.04933373, 36.11255278, 34.24246421, 36.22622795,\n",
       "       26.1974747 , 41.0398005 , 31.41066637, 34.07047331, 42.14770231,\n",
       "       45.44679116, 21.41118209, 44.54683093, 35.35460545, 36.47993911])"
      ]
     },
     "execution_count": 179,
     "metadata": {},
     "output_type": "execute_result"
    }
   ],
   "source": [
    "y"
   ]
  },
  {
   "cell_type": "code",
   "execution_count": 54,
   "metadata": {},
   "outputs": [
    {
     "name": "stdout",
     "output_type": "stream",
     "text": [
      "()\n"
     ]
    }
   ],
   "source": [
    "print(y.shape)"
   ]
  },
  {
   "cell_type": "code",
   "execution_count": 290,
   "metadata": {},
   "outputs": [
    {
     "data": {
      "text/plain": [
       "[41286.08749854996,\n",
       " 38302.110243945746,\n",
       " 20444.93670747345,\n",
       " 13639.701185793923,\n",
       " 12439.263695246093,\n",
       " 10789.974224403275,\n",
       " 8598.56556560382,\n",
       " 7968.967506273657,\n",
       " 7064.892691449656,\n",
       " 6299.901986225843,\n",
       " 5402.479038865533,\n",
       " 3654.37066066749,\n",
       " 3213.2931840440165,\n",
       " 2682.495895172844,\n",
       " 1872.8829464517519,\n",
       " 1219.8609339979532,\n",
       " 901.9277716135091,\n",
       " 553.7388536351104,\n",
       " 252.14526974505077,\n",
       " 118.10074288670174,\n",
       " 38.94981464085392,\n",
       " 21.429430366938657,\n",
       " 5.790438269180314,\n",
       " 2.0139509572786625,\n",
       " 0.8471606395169777]"
      ]
     },
     "execution_count": 290,
     "metadata": {},
     "output_type": "execute_result"
    }
   ],
   "source": [
    "function_1(x,y,25)"
   ]
  },
  {
   "cell_type": "code",
   "execution_count": 331,
   "metadata": {},
   "outputs": [
    {
     "name": "stdout",
     "output_type": "stream",
     "text": [
      "[5881.081773936589, 5195.194135948176, 4595.753850448796, 3697.4301685787964, 2393.408183981792, 1730.2577746392737, 1137.495276542045, 836.8981056708691, 502.7815170755121, 414.6809716536083, 340.22588862523133, 220.3599620901575, 133.94619309571854, 80.35650253454206, 36.68023612039321, 30.981077033990275, 12.515987829782226, 4.3311267341245285, 1.3863370980748204, 0.7705193007573259, 0.24346041599041418, 0.10774205447739513, 0.016419091188545464, 0.004574090183078223, 0.002686760816077912, 0.0029362552828107406, 0.001584657029826227, 0.002247869747972181, 0.001431492737689517]\n"
     ]
    },
    {
     "data": {
      "text/plain": [
       "[[6389.803909882158,\n",
       "  5916.599983237266,\n",
       "  4999.201390296729,\n",
       "  3737.9558974357187,\n",
       "  3166.641003683795,\n",
       "  2791.2273526995987,\n",
       "  2561.347949798782,\n",
       "  2155.46758995359,\n",
       "  1849.5508307278424,\n",
       "  763.6974357205736,\n",
       "  628.0873793772564,\n",
       "  342.44850957395926,\n",
       "  121.53125255132385,\n",
       "  46.6384235185164,\n",
       "  21.163442969920084,\n",
       "  12.74031224792265,\n",
       "  10.285472319360716,\n",
       "  10.064138308163399,\n",
       "  8.805455535457378,\n",
       "  8.441746471802308,\n",
       "  5.545303363744137,\n",
       "  5.35881305379689,\n",
       "  1.399291007825839,\n",
       "  0.03968376890055237,\n",
       "  0.0006888542845988004,\n",
       "  9.647630520136338e-09,\n",
       "  8.177593269649294e-08,\n",
       "  2.221234637007994e-08,\n",
       "  8.217963141638592e-06]]"
      ]
     },
     "execution_count": 331,
     "metadata": {},
     "output_type": "execute_result"
    }
   ],
   "source": [
    "function_2(Xdata_numpy[\"X\"], Ydata.iloc[:,m], 1, 29, 0.2857)"
   ]
  },
  {
   "cell_type": "code",
   "execution_count": null,
   "metadata": {},
   "outputs": [],
   "source": []
  }
 ],
 "metadata": {
  "kernelspec": {
   "display_name": "Python 3",
   "language": "python",
   "name": "python3"
  },
  "language_info": {
   "codemirror_mode": {
    "name": "ipython",
    "version": 3
   },
   "file_extension": ".py",
   "mimetype": "text/x-python",
   "name": "python",
   "nbconvert_exporter": "python",
   "pygments_lexer": "ipython3",
   "version": "3.7.4"
  }
 },
 "nbformat": 4,
 "nbformat_minor": 2
}
